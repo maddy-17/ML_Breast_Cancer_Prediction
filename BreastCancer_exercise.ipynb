{
 "cells": [
  {
   "cell_type": "code",
   "execution_count": 20,
   "metadata": {},
   "outputs": [],
   "source": [
    "import tensorflow.compat.v1 as tf\n",
    "import pandas as pd"
   ]
  },
  {
   "cell_type": "code",
   "execution_count": 21,
   "metadata": {
    "scrolled": true
   },
   "outputs": [],
   "source": [
    "tf.disable_eager_execution()\n",
    "tf.disable_v2_behavior()"
   ]
  },
  {
   "cell_type": "code",
   "execution_count": 22,
   "metadata": {},
   "outputs": [],
   "source": [
    "data = pd.read_csv(\"breast_cancer.csv\")"
   ]
  },
  {
   "cell_type": "code",
   "execution_count": 23,
   "metadata": {},
   "outputs": [
    {
     "data": {
      "text/html": [
       "<div>\n",
       "<style scoped>\n",
       "    .dataframe tbody tr th:only-of-type {\n",
       "        vertical-align: middle;\n",
       "    }\n",
       "\n",
       "    .dataframe tbody tr th {\n",
       "        vertical-align: top;\n",
       "    }\n",
       "\n",
       "    .dataframe thead th {\n",
       "        text-align: right;\n",
       "    }\n",
       "</style>\n",
       "<table border=\"1\" class=\"dataframe\">\n",
       "  <thead>\n",
       "    <tr style=\"text-align: right;\">\n",
       "      <th></th>\n",
       "      <th>count</th>\n",
       "      <th>mean</th>\n",
       "      <th>std</th>\n",
       "      <th>min</th>\n",
       "      <th>25%</th>\n",
       "      <th>50%</th>\n",
       "      <th>75%</th>\n",
       "      <th>max</th>\n",
       "    </tr>\n",
       "  </thead>\n",
       "  <tbody>\n",
       "    <tr>\n",
       "      <th>Age</th>\n",
       "      <td>116.0</td>\n",
       "      <td>57.301724</td>\n",
       "      <td>16.112766</td>\n",
       "      <td>24.000000</td>\n",
       "      <td>45.000000</td>\n",
       "      <td>56.000000</td>\n",
       "      <td>71.000000</td>\n",
       "      <td>89.000000</td>\n",
       "    </tr>\n",
       "    <tr>\n",
       "      <th>BMI</th>\n",
       "      <td>116.0</td>\n",
       "      <td>27.582111</td>\n",
       "      <td>5.020136</td>\n",
       "      <td>18.370000</td>\n",
       "      <td>22.973205</td>\n",
       "      <td>27.662416</td>\n",
       "      <td>31.241442</td>\n",
       "      <td>38.578759</td>\n",
       "    </tr>\n",
       "    <tr>\n",
       "      <th>Glucose</th>\n",
       "      <td>116.0</td>\n",
       "      <td>97.793103</td>\n",
       "      <td>22.525162</td>\n",
       "      <td>60.000000</td>\n",
       "      <td>85.750000</td>\n",
       "      <td>92.000000</td>\n",
       "      <td>102.000000</td>\n",
       "      <td>201.000000</td>\n",
       "    </tr>\n",
       "    <tr>\n",
       "      <th>Insulin</th>\n",
       "      <td>116.0</td>\n",
       "      <td>10.012086</td>\n",
       "      <td>10.067768</td>\n",
       "      <td>2.432000</td>\n",
       "      <td>4.359250</td>\n",
       "      <td>5.924500</td>\n",
       "      <td>11.189250</td>\n",
       "      <td>58.460000</td>\n",
       "    </tr>\n",
       "    <tr>\n",
       "      <th>HOMA</th>\n",
       "      <td>116.0</td>\n",
       "      <td>2.694988</td>\n",
       "      <td>3.642043</td>\n",
       "      <td>0.467409</td>\n",
       "      <td>0.917966</td>\n",
       "      <td>1.380939</td>\n",
       "      <td>2.857787</td>\n",
       "      <td>25.050342</td>\n",
       "    </tr>\n",
       "    <tr>\n",
       "      <th>Leptin</th>\n",
       "      <td>116.0</td>\n",
       "      <td>26.615080</td>\n",
       "      <td>19.183294</td>\n",
       "      <td>4.311000</td>\n",
       "      <td>12.313675</td>\n",
       "      <td>20.271000</td>\n",
       "      <td>37.378300</td>\n",
       "      <td>90.280000</td>\n",
       "    </tr>\n",
       "    <tr>\n",
       "      <th>Adiponectin</th>\n",
       "      <td>116.0</td>\n",
       "      <td>10.180874</td>\n",
       "      <td>6.843341</td>\n",
       "      <td>1.656020</td>\n",
       "      <td>5.474282</td>\n",
       "      <td>8.352692</td>\n",
       "      <td>11.815970</td>\n",
       "      <td>38.040000</td>\n",
       "    </tr>\n",
       "    <tr>\n",
       "      <th>Resistin</th>\n",
       "      <td>116.0</td>\n",
       "      <td>14.725966</td>\n",
       "      <td>12.390646</td>\n",
       "      <td>3.210000</td>\n",
       "      <td>6.881763</td>\n",
       "      <td>10.827740</td>\n",
       "      <td>17.755207</td>\n",
       "      <td>82.100000</td>\n",
       "    </tr>\n",
       "    <tr>\n",
       "      <th>MCP.1</th>\n",
       "      <td>116.0</td>\n",
       "      <td>534.647000</td>\n",
       "      <td>345.912663</td>\n",
       "      <td>45.843000</td>\n",
       "      <td>269.978250</td>\n",
       "      <td>471.322500</td>\n",
       "      <td>700.085000</td>\n",
       "      <td>1698.440000</td>\n",
       "    </tr>\n",
       "    <tr>\n",
       "      <th>Classification</th>\n",
       "      <td>116.0</td>\n",
       "      <td>1.551724</td>\n",
       "      <td>0.499475</td>\n",
       "      <td>1.000000</td>\n",
       "      <td>1.000000</td>\n",
       "      <td>2.000000</td>\n",
       "      <td>2.000000</td>\n",
       "      <td>2.000000</td>\n",
       "    </tr>\n",
       "  </tbody>\n",
       "</table>\n",
       "</div>"
      ],
      "text/plain": [
       "                count        mean         std        min         25%  \\\n",
       "Age             116.0   57.301724   16.112766  24.000000   45.000000   \n",
       "BMI             116.0   27.582111    5.020136  18.370000   22.973205   \n",
       "Glucose         116.0   97.793103   22.525162  60.000000   85.750000   \n",
       "Insulin         116.0   10.012086   10.067768   2.432000    4.359250   \n",
       "HOMA            116.0    2.694988    3.642043   0.467409    0.917966   \n",
       "Leptin          116.0   26.615080   19.183294   4.311000   12.313675   \n",
       "Adiponectin     116.0   10.180874    6.843341   1.656020    5.474282   \n",
       "Resistin        116.0   14.725966   12.390646   3.210000    6.881763   \n",
       "MCP.1           116.0  534.647000  345.912663  45.843000  269.978250   \n",
       "Classification  116.0    1.551724    0.499475   1.000000    1.000000   \n",
       "\n",
       "                       50%         75%          max  \n",
       "Age              56.000000   71.000000    89.000000  \n",
       "BMI              27.662416   31.241442    38.578759  \n",
       "Glucose          92.000000  102.000000   201.000000  \n",
       "Insulin           5.924500   11.189250    58.460000  \n",
       "HOMA              1.380939    2.857787    25.050342  \n",
       "Leptin           20.271000   37.378300    90.280000  \n",
       "Adiponectin       8.352692   11.815970    38.040000  \n",
       "Resistin         10.827740   17.755207    82.100000  \n",
       "MCP.1           471.322500  700.085000  1698.440000  \n",
       "Classification    2.000000    2.000000     2.000000  "
      ]
     },
     "execution_count": 23,
     "metadata": {},
     "output_type": "execute_result"
    }
   ],
   "source": [
    "data.describe().transpose()"
   ]
  },
  {
   "cell_type": "code",
   "execution_count": 24,
   "metadata": {},
   "outputs": [],
   "source": [
    "def label_fix(label):\n",
    "    if label==1:\n",
    "        return 0\n",
    "    else:\n",
    "        return 1"
   ]
  },
  {
   "cell_type": "code",
   "execution_count": 26,
   "metadata": {},
   "outputs": [],
   "source": [
    "data['Classification'] = data['Classification'].apply(label_fix)"
   ]
  },
  {
   "cell_type": "code",
   "execution_count": 27,
   "metadata": {},
   "outputs": [],
   "source": [
    "X = data.drop(['Classification'], axis=1)\n",
    "y = data['Classification']"
   ]
  },
  {
   "cell_type": "code",
   "execution_count": 28,
   "metadata": {},
   "outputs": [],
   "source": [
    "from sklearn.preprocessing import MinMaxScaler\n",
    "from sklearn.model_selection import train_test_split"
   ]
  },
  {
   "cell_type": "code",
   "execution_count": 29,
   "metadata": {},
   "outputs": [],
   "source": [
    "X_train, X_test, y_train, y_test = train_test_split(X, y, test_size=0.3, random_state=42)"
   ]
  },
  {
   "cell_type": "code",
   "execution_count": null,
   "metadata": {},
   "outputs": [],
   "source": []
  },
  {
   "cell_type": "code",
   "execution_count": 30,
   "metadata": {},
   "outputs": [],
   "source": [
    "scalar = MinMaxScaler()"
   ]
  },
  {
   "cell_type": "code",
   "execution_count": 31,
   "metadata": {},
   "outputs": [
    {
     "data": {
      "text/plain": [
       "MinMaxScaler(copy=True, feature_range=(0, 1))"
      ]
     },
     "execution_count": 31,
     "metadata": {},
     "output_type": "execute_result"
    }
   ],
   "source": [
    "scalar.fit(X_train)"
   ]
  },
  {
   "cell_type": "code",
   "execution_count": 32,
   "metadata": {},
   "outputs": [],
   "source": [
    "X_train = pd.DataFrame(data=scalar.transform(X_train),columns = X_train.columns,index=X_train.index)\n",
    "X_test = pd.DataFrame(data=scalar.transform(X_test),columns = X_test.columns,index=X_test.index)"
   ]
  },
  {
   "cell_type": "code",
   "execution_count": 33,
   "metadata": {},
   "outputs": [
    {
     "data": {
      "text/plain": [
       "Index(['Age', 'BMI', 'Glucose', 'Insulin', 'HOMA', 'Leptin', 'Adiponectin',\n",
       "       'Resistin', 'MCP.1'],\n",
       "      dtype='object')"
      ]
     },
     "execution_count": 33,
     "metadata": {},
     "output_type": "execute_result"
    }
   ],
   "source": [
    "X_train.columns"
   ]
  },
  {
   "cell_type": "code",
   "execution_count": 34,
   "metadata": {},
   "outputs": [],
   "source": [
    "age = tf.feature_column.numeric_column('Age')\n",
    "bmi = tf.feature_column.numeric_column('BMI')\n",
    "glucose = tf.feature_column.numeric_column('Glucose')\n",
    "insulin = tf.feature_column.numeric_column('Insulin')\n",
    "homa = tf.feature_column.numeric_column('HOMA')\n",
    "leptin = tf.feature_column.numeric_column('Leptin')\n",
    "adiponectin = tf.feature_column.numeric_column('Adiponectin')\n",
    "resistin = tf.feature_column.numeric_column('Resistin')\n",
    "mcp = tf.feature_column.numeric_column('MCP.1')\n",
    "\n",
    "feat_cols = [ age, bmi, glucose, insulin, homa, leptin, adiponectin, resistin, mcp]"
   ]
  },
  {
   "cell_type": "code",
   "execution_count": 78,
   "metadata": {},
   "outputs": [],
   "source": [
    "input_func = tf.estimator.inputs.pandas_input_fn(X_train,y_train, batch_size=4, num_epochs=100, shuffle=True)\n",
    "pred_func = tf.estimator.inputs.pandas_input_fn(X_test, batch_size=4, num_epochs=1, shuffle=False)"
   ]
  },
  {
   "cell_type": "code",
   "execution_count": 149,
   "metadata": {},
   "outputs": [
    {
     "name": "stdout",
     "output_type": "stream",
     "text": [
      "INFO:tensorflow:Using default config.\n",
      "WARNING:tensorflow:Using temporary folder as model directory: /tmp/tmpfr_r4qij\n",
      "INFO:tensorflow:Using config: {'_model_dir': '/tmp/tmpfr_r4qij', '_tf_random_seed': None, '_save_summary_steps': 100, '_save_checkpoints_steps': None, '_save_checkpoints_secs': 600, '_session_config': allow_soft_placement: true\n",
      "graph_options {\n",
      "  rewrite_options {\n",
      "    meta_optimizer_iterations: ONE\n",
      "  }\n",
      "}\n",
      ", '_keep_checkpoint_max': 5, '_keep_checkpoint_every_n_hours': 10000, '_log_step_count_steps': 100, '_train_distribute': None, '_device_fn': None, '_protocol': None, '_eval_distribute': None, '_experimental_distribute': None, '_experimental_max_worker_delay_secs': None, '_session_creation_timeout_secs': 7200, '_service': None, '_cluster_spec': ClusterSpec({}), '_task_type': 'worker', '_task_id': 0, '_global_id_in_cluster': 0, '_master': '', '_evaluation_master': '', '_is_chief': True, '_num_ps_replicas': 0, '_num_worker_replicas': 1}\n"
     ]
    }
   ],
   "source": [
    "estimator = tf.estimator.DNNClassifier([7,7,7,7],feat_cols)"
   ]
  },
  {
   "cell_type": "code",
   "execution_count": 150,
   "metadata": {},
   "outputs": [
    {
     "name": "stdout",
     "output_type": "stream",
     "text": [
      "INFO:tensorflow:Calling model_fn.\n",
      "INFO:tensorflow:Done calling model_fn.\n",
      "INFO:tensorflow:Create CheckpointSaverHook.\n",
      "INFO:tensorflow:Graph was finalized.\n",
      "INFO:tensorflow:Running local_init_op.\n",
      "INFO:tensorflow:Done running local_init_op.\n",
      "INFO:tensorflow:Saving checkpoints for 0 into /tmp/tmpfr_r4qij/model.ckpt.\n",
      "INFO:tensorflow:loss = 3.0422766, step = 1\n",
      "INFO:tensorflow:global_step/sec: 370.477\n",
      "INFO:tensorflow:loss = 3.0521722, step = 101 (0.274 sec)\n",
      "INFO:tensorflow:global_step/sec: 567.688\n",
      "INFO:tensorflow:loss = 3.225821, step = 201 (0.172 sec)\n",
      "INFO:tensorflow:global_step/sec: 516.207\n",
      "INFO:tensorflow:loss = 2.103878, step = 301 (0.195 sec)\n",
      "INFO:tensorflow:global_step/sec: 511.532\n",
      "INFO:tensorflow:loss = 0.8032049, step = 401 (0.199 sec)\n",
      "INFO:tensorflow:global_step/sec: 516.686\n",
      "INFO:tensorflow:loss = 1.9735224, step = 501 (0.189 sec)\n",
      "INFO:tensorflow:global_step/sec: 529.823\n",
      "INFO:tensorflow:loss = 2.8883398, step = 601 (0.188 sec)\n",
      "INFO:tensorflow:global_step/sec: 504.139\n",
      "INFO:tensorflow:loss = 1.3961487, step = 701 (0.203 sec)\n",
      "INFO:tensorflow:global_step/sec: 528.885\n",
      "INFO:tensorflow:loss = 0.6147186, step = 801 (0.187 sec)\n",
      "INFO:tensorflow:global_step/sec: 551.376\n",
      "INFO:tensorflow:loss = 0.5612395, step = 901 (0.181 sec)\n",
      "INFO:tensorflow:global_step/sec: 476.818\n",
      "INFO:tensorflow:loss = 1.4170383, step = 1001 (0.208 sec)\n",
      "INFO:tensorflow:global_step/sec: 543.668\n",
      "INFO:tensorflow:loss = 0.39393434, step = 1101 (0.183 sec)\n",
      "INFO:tensorflow:global_step/sec: 467.691\n",
      "INFO:tensorflow:loss = 0.26690143, step = 1201 (0.216 sec)\n",
      "INFO:tensorflow:global_step/sec: 322.087\n",
      "INFO:tensorflow:loss = 1.388432, step = 1301 (0.309 sec)\n",
      "INFO:tensorflow:global_step/sec: 521.535\n",
      "INFO:tensorflow:loss = 0.57566935, step = 1401 (0.195 sec)\n",
      "INFO:tensorflow:global_step/sec: 543.313\n",
      "INFO:tensorflow:loss = 0.71967375, step = 1501 (0.181 sec)\n",
      "INFO:tensorflow:global_step/sec: 511.019\n",
      "INFO:tensorflow:loss = 0.43290383, step = 1601 (0.194 sec)\n",
      "INFO:tensorflow:global_step/sec: 459.5\n",
      "INFO:tensorflow:loss = 0.23433462, step = 1701 (0.220 sec)\n",
      "INFO:tensorflow:global_step/sec: 330.166\n",
      "INFO:tensorflow:loss = 4.2288504, step = 1801 (0.301 sec)\n",
      "INFO:tensorflow:global_step/sec: 629.713\n",
      "INFO:tensorflow:loss = 5.852399, step = 1901 (0.157 sec)\n",
      "INFO:tensorflow:Saving checkpoints for 2000 into /tmp/tmpfr_r4qij/model.ckpt.\n",
      "INFO:tensorflow:Loss for final step: 0.58477986.\n"
     ]
    },
    {
     "data": {
      "text/plain": [
       "<tensorflow_estimator.python.estimator.canned.dnn.DNNClassifier at 0x7f3882133250>"
      ]
     },
     "execution_count": 150,
     "metadata": {},
     "output_type": "execute_result"
    }
   ],
   "source": [
    "estimator.train(input_func, steps=2000)"
   ]
  },
  {
   "cell_type": "code",
   "execution_count": 151,
   "metadata": {},
   "outputs": [
    {
     "name": "stdout",
     "output_type": "stream",
     "text": [
      "INFO:tensorflow:Calling model_fn.\n",
      "INFO:tensorflow:Done calling model_fn.\n",
      "INFO:tensorflow:Graph was finalized.\n",
      "INFO:tensorflow:Restoring parameters from /tmp/tmpfr_r4qij/model.ckpt-2000\n",
      "INFO:tensorflow:Running local_init_op.\n",
      "INFO:tensorflow:Done running local_init_op.\n"
     ]
    }
   ],
   "source": [
    "predictions = list(estimator.predict(input_fn=pred_func))"
   ]
  },
  {
   "cell_type": "code",
   "execution_count": 152,
   "metadata": {},
   "outputs": [],
   "source": [
    "final_preds = []\n",
    "for pred in predictions:\n",
    "    final_preds.append(pred['class_ids'][0])"
   ]
  },
  {
   "cell_type": "code",
   "execution_count": 153,
   "metadata": {},
   "outputs": [],
   "source": [
    "from sklearn.metrics import classification_report"
   ]
  },
  {
   "cell_type": "code",
   "execution_count": 154,
   "metadata": {},
   "outputs": [
    {
     "name": "stdout",
     "output_type": "stream",
     "text": [
      "              precision    recall  f1-score   support\n",
      "\n",
      "           0       0.83      0.88      0.86        17\n",
      "           1       0.88      0.83      0.86        18\n",
      "\n",
      "    accuracy                           0.86        35\n",
      "   macro avg       0.86      0.86      0.86        35\n",
      "weighted avg       0.86      0.86      0.86        35\n",
      "\n"
     ]
    }
   ],
   "source": [
    "print(classification_report(y_test,final_preds))"
   ]
  },
  {
   "cell_type": "code",
   "execution_count": null,
   "metadata": {},
   "outputs": [],
   "source": []
  }
 ],
 "metadata": {
  "kernelspec": {
   "display_name": "Python 3",
   "language": "python",
   "name": "python3"
  },
  "language_info": {
   "codemirror_mode": {
    "name": "ipython",
    "version": 3
   },
   "file_extension": ".py",
   "mimetype": "text/x-python",
   "name": "python",
   "nbconvert_exporter": "python",
   "pygments_lexer": "ipython3",
   "version": "3.7.7"
  }
 },
 "nbformat": 4,
 "nbformat_minor": 4
}
